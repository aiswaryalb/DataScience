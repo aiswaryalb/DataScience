{
  "nbformat": 4,
  "nbformat_minor": 0,
  "metadata": {
    "colab": {
      "provenance": [],
      "collapsed_sections": []
    },
    "kernelspec": {
      "name": "python3",
      "display_name": "Python 3"
    },
    "language_info": {
      "name": "python"
    }
  },
  "cells": [
    {
      "cell_type": "markdown",
      "source": [
        "ASSIGNMENT-1 Data Types\n"
      ],
      "metadata": {
        "id": "J7rhnic_zzUu"
      }
    },
    {
      "cell_type": "markdown",
      "source": [
        "1.Construct 2 lists containing all the available data types  (integer, float,\n",
        "string, complex and Boolean) and do the following..\n",
        "\n",
        "Create another list by concatenating above 2 lists\n",
        "Find the frequency of each element in the concatenated list.\n",
        "Print the list in reverse order.\n"
      ],
      "metadata": {
        "id": "YtTmfEBcz1rG"
      }
    },
    {
      "cell_type": "code",
      "source": [
        "#Creating 2 lists\n",
        "list1 = [89,56.89,'Hello',4+2j,False]\n",
        "list2 = [100,3.14,'Welcome',2+3j,True]\n",
        "#list1\n",
        "print(list1)\n",
        "#list1\n",
        "print(list2)"
      ],
      "metadata": {
        "colab": {
          "base_uri": "https://localhost:8080/"
        },
        "id": "mXopli9K0AJ5",
        "outputId": "d775b330-f1cf-4bca-ba3f-258fa23b0b9e"
      },
      "execution_count": 25,
      "outputs": [
        {
          "output_type": "stream",
          "name": "stdout",
          "text": [
            "[89, 56.89, 'Hello', (4+2j), False]\n",
            "[100, 3.14, 'Welcome', (2+3j), True]\n"
          ]
        }
      ]
    },
    {
      "cell_type": "code",
      "source": [
        "#creating concantenated list\n",
        "list3 = list1 + list2\n",
        "list3"
      ],
      "metadata": {
        "colab": {
          "base_uri": "https://localhost:8080/"
        },
        "id": "Xdg3O83p0g51",
        "outputId": "1d08f44c-3d80-4b96-dfbf-369f166e6b90"
      },
      "execution_count": 6,
      "outputs": [
        {
          "output_type": "execute_result",
          "data": {
            "text/plain": [
              "[89, 56.89, 'Hello', (4+2j), False, 100, 3.14, 'Welcome', (2+3j), True]"
            ]
          },
          "metadata": {},
          "execution_count": 6
        }
      ]
    },
    {
      "cell_type": "code",
      "source": [
        "#Frequency of each element in list\n",
        "for x in list3:\n",
        "  print('{} {}'.format(x,list3.count(x)))\n"
      ],
      "metadata": {
        "colab": {
          "base_uri": "https://localhost:8080/"
        },
        "id": "8Yn8dZIX0th_",
        "outputId": "dde72e9e-a988-4c7b-ee75-5ecea91f3f5c"
      },
      "execution_count": 18,
      "outputs": [
        {
          "output_type": "stream",
          "name": "stdout",
          "text": [
            "89 1\n",
            "56.89 1\n",
            "Hello 1\n",
            "(4+2j) 1\n",
            "False 1\n",
            "100 1\n",
            "3.14 1\n",
            "Welcome 1\n",
            "(2+3j) 1\n",
            "True 1\n"
          ]
        }
      ]
    },
    {
      "cell_type": "code",
      "source": [
        "#Print the list in reverse order.\n",
        "list3.reverse()\n",
        "list3"
      ],
      "metadata": {
        "colab": {
          "base_uri": "https://localhost:8080/"
        },
        "id": "gbrvdf6r1bqG",
        "outputId": "a4a2082a-2b56-425f-903d-0f5a92e4ecf4"
      },
      "execution_count": 21,
      "outputs": [
        {
          "output_type": "execute_result",
          "data": {
            "text/plain": [
              "[True, (2+3j), 'Welcome', 3.14, 100, False, (4+2j), 'Hello', 56.89, 89]"
            ]
          },
          "metadata": {},
          "execution_count": 21
        }
      ]
    },
    {
      "cell_type": "markdown",
      "source": [
        "2.Create 2 Sets containing integers (numbers from 1 to 10 in one set and 5 to 15 in other set)\n",
        "\n",
        "Find the common elements in above 2 Sets.\n",
        "Find the elements that are not common.\n",
        "Remove element 7 from both the Sets.\n"
      ],
      "metadata": {
        "id": "m4AYxpCa4Gp7"
      }
    },
    {
      "cell_type": "code",
      "source": [
        "#Creating sets\n",
        "set1 = {1,2,3,4,5,6,7,8,9,10}\n",
        "set2 = {5,6,7,8,9,10,11,12,13,14,15}\n",
        "print(set1)\n",
        "print(set2)"
      ],
      "metadata": {
        "colab": {
          "base_uri": "https://localhost:8080/"
        },
        "id": "APJrTO3M4YdR",
        "outputId": "2f5720c2-b85d-49ea-b83e-2962fe0f3ae9"
      },
      "execution_count": 29,
      "outputs": [
        {
          "output_type": "stream",
          "name": "stdout",
          "text": [
            "{1, 2, 3, 4, 5, 6, 7, 8, 9, 10}\n",
            "{5, 6, 7, 8, 9, 10, 11, 12, 13, 14, 15}\n"
          ]
        }
      ]
    },
    {
      "cell_type": "code",
      "source": [
        "#Common elements in both set\n",
        "set1.intersection(set2)"
      ],
      "metadata": {
        "colab": {
          "base_uri": "https://localhost:8080/"
        },
        "id": "OHbNah916I-o",
        "outputId": "297527d9-6352-4449-dc5c-ea50e41caa18"
      },
      "execution_count": 30,
      "outputs": [
        {
          "output_type": "execute_result",
          "data": {
            "text/plain": [
              "{5, 6, 7, 8, 9, 10}"
            ]
          },
          "metadata": {},
          "execution_count": 30
        }
      ]
    },
    {
      "cell_type": "code",
      "source": [
        "#Non Common elements\n",
        "set1.union(set2) - set1.intersection(set2) "
      ],
      "metadata": {
        "colab": {
          "base_uri": "https://localhost:8080/"
        },
        "id": "bZcsNO2h6JOz",
        "outputId": "ec8573d9-64ff-4eb1-db82-016133cbdf36"
      },
      "execution_count": 38,
      "outputs": [
        {
          "output_type": "execute_result",
          "data": {
            "text/plain": [
              "{1, 2, 3, 4, 11, 12, 13, 14, 15}"
            ]
          },
          "metadata": {},
          "execution_count": 38
        }
      ]
    },
    {
      "cell_type": "code",
      "source": [
        "#Removing element from set\n",
        "set1.remove(7)\n",
        "set1"
      ],
      "metadata": {
        "colab": {
          "base_uri": "https://localhost:8080/"
        },
        "id": "ASPPrRdF4_EG",
        "outputId": "9064d015-25fe-4dc4-8009-27959ae4471c"
      },
      "execution_count": 27,
      "outputs": [
        {
          "output_type": "execute_result",
          "data": {
            "text/plain": [
              "{1, 2, 3, 4, 5, 6, 8, 9, 10}"
            ]
          },
          "metadata": {},
          "execution_count": 27
        }
      ]
    },
    {
      "cell_type": "code",
      "source": [
        "set2.remove(7)\n",
        "set2"
      ],
      "metadata": {
        "colab": {
          "base_uri": "https://localhost:8080/"
        },
        "id": "m5bdlgsk5nZj",
        "outputId": "e3bd15a3-fc4f-4488-8d89-6bb8d1e657b1"
      },
      "execution_count": 28,
      "outputs": [
        {
          "output_type": "execute_result",
          "data": {
            "text/plain": [
              "{5, 6, 8, 9, 10, 11, 12, 13, 14, 15}"
            ]
          },
          "metadata": {},
          "execution_count": 28
        }
      ]
    },
    {
      "cell_type": "markdown",
      "source": [
        "3.Create a data dictionary of 5 states having state name as key and number of covid-19 cases as values.\n",
        "\n",
        "Print only state names from the dictionary.\n",
        "Update another country and it’s covid-19 cases in the dictionary.\n",
        "\n"
      ],
      "metadata": {
        "id": "_CP7DwKO8Gnh"
      }
    },
    {
      "cell_type": "code",
      "source": [
        "# Creating dictionary\n",
        "d = {'Kerala': 150, 'Maharashtra':200,'Telangana':130,'Goa':86,'Karnataka':170}\n",
        "d"
      ],
      "metadata": {
        "colab": {
          "base_uri": "https://localhost:8080/"
        },
        "id": "1Jk3KNA48MaV",
        "outputId": "a82e9e91-cde7-4fda-ae8a-27b0474e9e15"
      },
      "execution_count": 57,
      "outputs": [
        {
          "output_type": "execute_result",
          "data": {
            "text/plain": [
              "{'Kerala': 150,\n",
              " 'Maharashtra': 200,\n",
              " 'Telangana': 130,\n",
              " 'Goa': 86,\n",
              " 'Karnataka': 170}"
            ]
          },
          "metadata": {},
          "execution_count": 57
        }
      ]
    },
    {
      "cell_type": "code",
      "source": [
        "#Printing state names\n",
        "print(d.keys())"
      ],
      "metadata": {
        "colab": {
          "base_uri": "https://localhost:8080/"
        },
        "id": "Hw7U1Krh8o02",
        "outputId": "a91b9fc3-6d6d-4ea9-d73d-89d106956e02"
      },
      "execution_count": 58,
      "outputs": [
        {
          "output_type": "stream",
          "name": "stdout",
          "text": [
            "dict_keys(['Kerala', 'Maharashtra', 'Telangana', 'Goa', 'Karnataka'])\n"
          ]
        }
      ]
    },
    {
      "cell_type": "code",
      "source": [
        "#Updating country and case\n",
        "d['Tamil Nadu'] = d.pop('Goa')\n",
        "print(d)\n",
        "d['Goa'] = 290\n",
        "print(d)"
      ],
      "metadata": {
        "colab": {
          "base_uri": "https://localhost:8080/"
        },
        "id": "0NNlpNWw8xXX",
        "outputId": "27e26c30-d778-4e69-e74e-57b47f41e11c"
      },
      "execution_count": 59,
      "outputs": [
        {
          "output_type": "stream",
          "name": "stdout",
          "text": [
            "{'Kerala': 150, 'Maharashtra': 200, 'Telangana': 130, 'Karnataka': 170, 'Tamil Nadu': 86}\n",
            "{'Kerala': 150, 'Maharashtra': 200, 'Telangana': 130, 'Karnataka': 170, 'Tamil Nadu': 86, 'Goa': 290}\n"
          ]
        }
      ]
    }
  ]
}